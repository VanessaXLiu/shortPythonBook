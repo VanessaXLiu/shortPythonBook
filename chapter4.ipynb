{
 "cells": [
  {
   "cell_type": "markdown",
   "metadata": {},
   "source": [
    "## 4.1 常用包推荐(基本装了anaconda都有)\n",
    "### 没有的话一行pip或者conda命令也就装好了。百度大把教程\n",
    "\n",
    "1. Excel相关\n",
    "* xlwings 在excel中调用Python代码，或者用python操作excel简直不能更爽。\n",
    "* xlsxwriter 不用装Excel的情况下，输出xlsx文件，简单易用。\n",
    "\n",
    "2. 自动化~~（日常偷懒）~~相关\n",
    "* Selenium 老牌回归测试工具，几乎没有搞不定的页面。\n",
    "* Pyautogui 不是网页可以用这个搞定，比较痛苦但不是不行。\n",
    "* Pyautoit 标准windows界面可用，会比Pyautogui少一些痛苦。\n",
    "\n",
    "3. 数学计算/分析/可视化 \n",
    "* Numpy\n",
    "* Pandas\n",
    "* matplot\n",
    "* pydot\n",
    "* Jupyter Notebook\n",
    "\n",
    "4. 数据库相关\n",
    "* Sqlalchemy ORM框架，支持主流数据库，非常好用\n",
    "* 数据库客户端？ 建议去[Sqlalchemy文档](https://docs.sqlalchemy.org/en/13/dialects/index.html)自取\n",
    "\n",
    "5. 其他\n",
    "* Python-redmine redmine接口\n",
    "* jira jira接口\n",
    "* apscheduler python计划任务框架，好用。\n",
    "* twisted 大名鼎鼎的网络通讯相关框架。\n",
    "* django 大名鼎鼎的网页开发全家桶。\n",
    "* tornado WSGI服务器，异步框架，长链接守护者……比较特殊，自己百度用途吧。看不懂就别用了，容易坑。\n",
    "* celery 分布式框架，task再多也不怕。\n"
   ]
  },
  {
   "cell_type": "markdown",
   "metadata": {},
   "source": [
    "## 4.2 还想再深入一些？\n",
    "\n",
    "实名推荐[Python3 Cookbook](https://python3-cookbook.readthedocs.io/zh_CN/latest/preface.html)\n",
    "\n",
    "好看，好用，深入简出，老司机必备。"
   ]
  }
 ],
 "metadata": {
  "language_info": {
   "codemirror_mode": {
    "name": "ipython",
    "version": 3
   },
   "file_extension": ".py",
   "mimetype": "text/x-python",
   "name": "python",
   "nbconvert_exporter": "python",
   "pygments_lexer": "ipython3",
   "version": 3
  },
  "orig_nbformat": 2
 },
 "nbformat": 4,
 "nbformat_minor": 2
}