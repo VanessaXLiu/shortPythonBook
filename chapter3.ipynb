{
 "cells": [
  {
   "cell_type": "markdown",
   "metadata": {},
   "source": [
    "## 3.Class 类\n",
    "\n",
    "一句话核心思想——**“Duck type”**\n",
    "\n",
    "简单来说，Python在设计程序时并不关心你扔进变量的是什么类型，\n",
    "\n",
    "只要他能干活就好。\n",
    "\n",
    "当你有个处理鸭子的函数。他须要一个扁嘴巴的属性和一个嘎嘎叫的方法。\n",
    "\n",
    "你可以往里扔绿头鸭，嘴巴是扁的，会嘎嘎叫；\n",
    "\n",
    "你也可以往里扔唐老鸭，嘴巴是扁的，也会嘎嘎叫；\n",
    "\n",
    "你往里扔个川建国，只要嘴巴是扁的，能嘎嘎叫，也能当鸭子用。\n",
    "\n",
    "也就是说，重要的不是具体的类型，而是“接口”。\n"
   ]
  },
  {
   "cell_type": "markdown",
   "metadata": {},
   "source": [
    "## 3.1 从基础开始"
   ]
  },
  {
   "cell_type": "code",
   "execution_count": 36,
   "metadata": {
    "tags": []
   },
   "outputs": [
    {
     "output_type": "stream",
     "name": "stdout",
     "text": "quack! quack!\nquack! quack! from Donald duck\nNo one quacks better than me!\n"
    }
   ],
   "source": [
    "class Duck():\n",
    "    def __init__(self):  ## 定义方法的时候第一个参数必须是self，\n",
    "                         ## 类似于this指针的感觉。\n",
    "        self.flatMouth = True\n",
    "    \n",
    "    def cry(self):\n",
    "        print(\"quack! quack!\")\n",
    "\n",
    "class DonaldDuck():\n",
    "    def __init__(self):\n",
    "        self.flatMouth = True\n",
    "\n",
    "    def cry(self):\n",
    "        print(\"quack! quack! from Donald duck\")\n",
    "\n",
    "class DonaldTrump():\n",
    "    def __init__(self):\n",
    "        self.flatMouth = True\n",
    "    \n",
    "    def cry(self):\n",
    "        print(\"No one quacks better than me!\")\n",
    "\n",
    "def makeDucksCry(duck):\n",
    "    if duck.flatMouth:\n",
    "        duck.cry()\n",
    "\n",
    "duck1 = Duck()         # 新建一只鸭子\n",
    "duck2 = DonaldDuck()   # 新建一只唐老鸭\n",
    "duck3 =  DonaldTrump() # 向川建国致以崇高的敬意\n",
    "\n",
    "makeDucksCry(duck1)\n",
    "makeDucksCry(duck2)\n",
    "makeDucksCry(duck3)"
   ]
  },
  {
   "cell_type": "markdown",
   "metadata": {},
   "source": [
    "### Duck Type的优点\n",
    "* 不用写共通的父类 ~~偷懒成功~~\n",
    "* 省掉父类之后，用父类指针指向子类对象会调用哪个方法的复杂问题也不用考虑了。\n",
    "* 关注如何解决问题，而不是怎么去设计一个类 ~~去TMD UML~~\n",
    "\n",
    "## 3.2 Mixin 混入类\n",
    "如果你须要一些动物，一些能把自己写进文件；另一些把自己通过socket发出去；\n",
    "\n",
    "而这些动物可能是鸭子，也可能是狗，还可能是其他的动物，你会怎么办？\n",
    "\n",
    "C++程序员会把动物写成父类，然后派生子类；把写文件和socket也写成父类或者纯虚类，\n",
    "\n",
    "然后抄起多重继承展现炉火纯青的OO技术。\n",
    "\n",
    "JAVA程序员没有那么幸运，因为没有多重继承，他们只能把写文件和socket做成接口，\n",
    "\n",
    "在各个子类上写具体的实现。\n",
    "\n",
    "\n"
   ]
  },
  {
   "cell_type": "code",
   "execution_count": 37,
   "metadata": {
    "tags": []
   },
   "outputs": [
    {
     "output_type": "stream",
     "name": "stdout",
     "text": "No one quacks better than me!\n\n假装把以下内容写进文件:\nI AM Trump, I have super power!\n\n假装把以下内容通过socket发到（The Sun）:\nI AM Trump, I have super power!\n"
    }
   ],
   "source": [
    "# 写文件Mixin\n",
    "class FileOutputMixin():\n",
    "    def getContent(self):\n",
    "        # 定义一个接口\n",
    "        raise NotImplementedError('Please implement getFIleContent')\n",
    "\n",
    "    def saveToFile(self):\n",
    "        print(\"\\n假装把以下内容写进文件:\\n%s\"%self.getContent())\n",
    "\n",
    "# 网络通信Mixin\n",
    "class SendBySocketMixin():\n",
    "    # 根据dry原则，其实这边应该统一写个纯虚类的，凑合着看=-=。。。。\n",
    "    def getContent(self):\n",
    "        # 定义一个接口\n",
    "        raise NotImplementedError('Please implement getFIleContent')\n",
    "\n",
    "    def sendToAddr(self, addr):\n",
    "        print(\"\\n假装把以下内容通过socket发到（%s）:\\n%s\"%(addr, self.getContent()))\n",
    "\n",
    "#强化版川建国\n",
    "class SuperDonaldTrump(DonaldTrump, SendBySocketMixin, FileOutputMixin):\n",
    "    def getContent(self):\n",
    "        return \"I AM Trump, I have super power!\"\n",
    "\n",
    "duck4 = SuperDonaldTrump()\n",
    "\n",
    "makeDucksCry(duck4)\n",
    "duck4.saveToFile()\n",
    "duck4.sendToAddr('The Sun')\n"
   ]
  },
  {
   "cell_type": "markdown",
   "metadata": {},
   "source": [
    "mixin可以看成为插件，可以用少量的代价，为原本的类提供之所前不具备的能力。\n",
    "\n",
    "为进一步的偷懒打下坚实的基础。\n",
    "\n",
    "**偷懒首要原则：**\n",
    "\n",
    "Dry = “Don't Repeat Yourself”\n",
    "\n",
    "不要复制黏贴几乎一模一样的代码。\n",
    "\n",
    "不要复制黏贴几乎一模一样的代码。\n",
    "\n",
    "不要复制黏贴几乎一模一样的代码。\n",
    "\n",
    "使用Mixin之后，使用isinstance函数可以快速判断某只鸭子是不是你想要的鸭子。"
   ]
  },
  {
   "cell_type": "code",
   "execution_count": 38,
   "metadata": {
    "tags": []
   },
   "outputs": [
    {
     "output_type": "stream",
     "name": "stdout",
     "text": "\n<class '__main__.DonaldTrump'> can not be sent to sun.\n\n<class '__main__.SuperDonaldTrump'> is ready for launch!\n\n假装把以下内容通过socket发到（sun）:\nI AM Trump, I have super power!\n"
    }
   ],
   "source": [
    "def sendToSun(duck):\n",
    "    if isinstance(duck, SendBySocketMixin):\n",
    "        print('\\n%s is ready for launch!'% duck.__class__)\n",
    "        duck.sendToAddr('sun')\n",
    "    else:\n",
    "        print('\\n%s can not be sent to sun.'% duck.__class__)\n",
    "\n",
    "sendToSun(duck3) #普通川建国\n",
    "sendToSun(duck4) #强化川建国"
   ]
  },
  {
   "cell_type": "markdown",
   "metadata": {},
   "source": [
    "## 3.3 动态组装对象 & 反射\n",
    "\n",
    "### 如果我须要量产去太阳的英雄该怎么办？\n",
    "\n",
    "看下面的例子。"
   ]
  },
  {
   "cell_type": "code",
   "execution_count": 39,
   "metadata": {
    "tags": []
   },
   "outputs": [
    {
     "output_type": "stream",
     "name": "stdout",
     "text": "\n<class '__main__.Duck'> is ready for launch!\nquack! quack!\nI AM going to sun\n\n\n<class '__main__.DonaldDuck'> is ready for launch!\nquack! quack! from Donald duck\nI AM going to sun\n\n\n<class '__main__.DonaldTrump'> is ready for launch!\nNo one quacks better than me!\nI AM going to sun\n\n\n<class '__main__.SuperDonaldTrump'> is ready for launch!\n\n假装把以下内容通过socket发到（sun）:\nI AM Trump, I have super power!\n"
    }
   ],
   "source": [
    "from types import MethodType\n",
    "ducks = [duck1, duck2, duck3]\n",
    "\n",
    "# 首先我们得把筛类型的筛子去掉\n",
    "def sendToSunAlt(duck):\n",
    "    # 反射\n",
    "    # 拿到我们须要的发射程序。\n",
    "    sendToAddr = getattr(duck, 'sendToAddr', None)\n",
    "    \n",
    "    # 确定他可以被调用\n",
    "    if callable(sendToAddr):\n",
    "        print('\\n%s is ready for launch!'% duck.__class__)\n",
    "        sendToAddr('sun')\n",
    "    \n",
    "    else:\n",
    "        print('\\n%s can not be sent to sun.'% duck.__class__)\n",
    "\n",
    "# 定义一个通用的发射方法。\n",
    "def sendToAddrGeneric(self, addr):\n",
    "    self.cry()\n",
    "    print('I AM going to %s\\n'%addr)\n",
    "\n",
    "# 动态组装(骚操作)\n",
    "heros = []\n",
    "for i in ducks:\n",
    "    i.sendToAddr = MethodType(sendToAddrGeneric, i)\n",
    "    heros.append(i)\n",
    "\n",
    "# 一起去太阳\n",
    "for hero in heros:\n",
    "    sendToSunAlt(hero)\n",
    "\n",
    "sendToSunAlt(duck4) #强化版川建国同志自然也是没有问题的。"
   ]
  },
  {
   "cell_type": "markdown",
   "metadata": {},
   "source": [
    "标准OO，Duck Type，Mixin，动态组装，反射的结合使用为解决现实问题提供了几乎无限的灵活性。\n",
    "\n",
    "也带来了难以阅读，难以理解，难以维护等等等等的问题。（偷懒的代价）\n",
    "\n",
    "在偷懒的时候，请考虑一下以后接手的同事，或者是半年后的自己的感受，\n",
    "\n",
    "毕竟太阳上并不是很好玩。\n"
   ]
  }
 ],
 "metadata": {
  "language_info": {
   "codemirror_mode": {
    "name": "ipython",
    "version": 3
   },
   "file_extension": ".py",
   "mimetype": "text/x-python",
   "name": "python",
   "nbconvert_exporter": "python",
   "pygments_lexer": "ipython3",
   "version": "3.7.6-final"
  },
  "orig_nbformat": 2,
  "kernelspec": {
   "name": "python3",
   "display_name": "Python 3"
  }
 },
 "nbformat": 4,
 "nbformat_minor": 2
}