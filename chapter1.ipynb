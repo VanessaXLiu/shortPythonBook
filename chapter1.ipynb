{
 "cells": [
  {
   "cell_type": "markdown",
   "metadata": {},
   "source": [
    "# 一起玩Python\n",
    "## 人生苦短，我用Python\n",
    "\n",
    "大家都是程序员，Hello World我就不写了吧……\n",
    "\n",
    "Python是一种 **动态 强类型** 语言\n",
    "\n",
    "* 动态 = 变量声明时无需声明类型\n",
    "* 强类型 = 不支持隐式转换（大多数情况下必须手动把类型转换的代码写出来） "
   ]
  },
  {
   "cell_type": "code",
   "execution_count": 1,
   "metadata": {
    "tags": []
   },
   "outputs": [
    {
     "output_type": "stream",
     "name": "stdout",
     "text": "错误信息:\ncan only concatenate str (not \"int\") to str\n"
    }
   ],
   "source": [
    "a = '1' #这是一个字符串, 定义字符串'',\"\" 成对的单引号,双引号都可以使用\n",
    "b = 1   #这是一个整形\n",
    "\n",
    "try:\n",
    "    a + b\n",
    "except Exception as e:\n",
    "    print('错误信息:')\n",
    "    print(e)"
   ]
  },
  {
   "cell_type": "markdown",
   "metadata": {},
   "source": [
    "## 0.真・万物皆对象\n",
    "\n",
    "Python中，几乎所有的东西都可以保存在一个变量里，所以简洁易懂的代码至关重要。\n",
    "\n",
    "不然半年后看着自己写的代码一脸懵逼会是一种非常不好的体验。"
   ]
  },
  {
   "cell_type": "code",
   "execution_count": 2,
   "metadata": {
    "tags": []
   },
   "outputs": [
    {
     "output_type": "stream",
     "name": "stdout",
     "text": "<class 'function'>\nfunc(1, 2) = 3\n"
    }
   ],
   "source": [
    "# 定义一个函数\n",
    "def addFunc(a, b):\n",
    "    return a + b\n",
    "\n",
    "\n",
    "# 把函数保存在变量里，用过C的同学应该此时应该想起了无比可爱的函数指针\n",
    "func = addFunc\n",
    "print(type(func))\n",
    "print('func(1, 2) = %d'%func(1,2))"
   ]
  },
  {
   "cell_type": "markdown",
   "metadata": {},
   "source": [
    "## 1.强大且优雅的数据结构\n",
    "Python的基础数据结构有下面四种。虽然只有4种，但是我还没遇上过不够用的事。\n",
    "\n",
    "1. list 列表\n",
    "\n",
    "2. tuple 元组\n",
    "\n",
    "3. dict 字典\n",
    "\n",
    "4. set 集合\n"
   ]
  },
  {
   "cell_type": "markdown",
   "metadata": {},
   "source": [
    "## 1.1 list(列表)"
   ]
  },
  {
   "cell_type": "code",
   "execution_count": 3,
   "metadata": {
    "tags": []
   },
   "outputs": [
    {
     "output_type": "stream",
     "name": "stdout",
     "text": "[1, 2, 3, 4, 5]\n"
    }
   ],
   "source": [
    "# JAVA程序员写Python\n",
    "sampleList = list()\n",
    "sampleList.append(1)\n",
    "sampleList.append(2)\n",
    "sampleList.append(3)\n",
    "sampleList.append(4)\n",
    "sampleList.append(5)\n",
    "\n",
    "print(sampleList)\n"
   ]
  },
  {
   "cell_type": "code",
   "execution_count": 4,
   "metadata": {
    "tags": []
   },
   "outputs": [
    {
     "output_type": "stream",
     "name": "stdout",
     "text": "[1, 2, 3, 4, 5]\n"
    }
   ],
   "source": [
    "# 懒人写Python\n",
    "sampleList = [1,2,3,4,5]\n",
    "print(sampleList)"
   ]
  },
  {
   "cell_type": "markdown",
   "metadata": {},
   "source": [
    "### 关于“能不能再给力一点？”这个话题……\n",
    "\n",
    "还记得么？Python是啥语言来着？\n",
    "\n",
    "动态强类型语言，动态类型=几乎啥都可以往变量里扔，列表就是一串变量。\n",
    "\n",
    "So, 约等于啥都可以往列表里扔。\n",
    "\n",
    "* 用过C的同学可是否还曾记得当年被 **链表** 支配的恐惧？"
   ]
  },
  {
   "cell_type": "code",
   "execution_count": 5,
   "metadata": {
    "tags": []
   },
   "outputs": [
    {
     "output_type": "stream",
     "name": "stdout",
     "text": "['a', 1, <function addFunc at 0x0000021A38101B88>, ['A', 'B', 'C']]\n"
    }
   ],
   "source": [
    "def addFunc(a, b):\n",
    "    return a + b\n",
    "\n",
    "# 字符串？\n",
    "a = ['a']\n",
    "\n",
    "# 数字？\n",
    "a.append(1)\n",
    "\n",
    "# 函数?\n",
    "a.append(addFunc)\n",
    "\n",
    "# 另一个列表\n",
    "a.append(['A','B','C'])\n",
    "\n",
    "#都是没有问题的\n",
    "print(a)\n"
   ]
  },
  {
   "cell_type": "code",
   "execution_count": null,
   "metadata": {
    "tags": []
   },
   "outputs": [],
   "source": [
    "# 用append添加另一个列表之后，会变成本列表的一个元素。\n",
    "# 那我想合并两个列表怎么办？\n",
    "# 放心，还有extend。\n",
    "a=[1,2,3]\n",
    "b=['a','b','c']\n",
    "a.extend(b)\n",
    "print(a)"
   ]
  },
  {
   "cell_type": "markdown",
   "metadata": {},
   "source": [
    "### 关于“还能不能再给力一点？” 这个话题。\n",
    "\n",
    "少年，你听说过切片（slice）么？"
   ]
  },
  {
   "cell_type": "code",
   "execution_count": 6,
   "metadata": {
    "tags": []
   },
   "outputs": [
    {
     "output_type": "stream",
     "name": "stdout",
     "text": "[1, 2, 3, 4, 5]\n"
    }
   ],
   "source": [
    "# 先弄一个简单易懂的列表\n",
    "a = [1,2,3,4,5]\n",
    "print(a)"
   ]
  },
  {
   "cell_type": "code",
   "execution_count": 7,
   "metadata": {
    "tags": []
   },
   "outputs": [
    {
     "output_type": "stream",
     "name": "stdout",
     "text": "1\n"
    }
   ],
   "source": [
    "# 忘记说了，Python的下标是从0开始的。\n",
    "print(a[0])"
   ]
  },
  {
   "cell_type": "code",
   "execution_count": 8,
   "metadata": {
    "tags": []
   },
   "outputs": [
    {
     "output_type": "stream",
     "name": "stdout",
     "text": "['a', 2, 3, 4, 5]\n"
    }
   ],
   "source": [
    "# 当然，直接用下标给变量赋值也是可以的。\n",
    "a[0] = 'a'\n",
    "print(a)"
   ]
  },
  {
   "cell_type": "code",
   "execution_count": 9,
   "metadata": {
    "tags": []
   },
   "outputs": [
    {
     "output_type": "stream",
     "name": "stdout",
     "text": "['a', 2, 3]\n"
    }
   ],
   "source": [
    "\n",
    "# 如果我只需要取前三个呢？\n",
    "# 简单\n",
    "print(a[:3])"
   ]
  },
  {
   "cell_type": "code",
   "execution_count": 10,
   "metadata": {
    "tags": []
   },
   "outputs": [
    {
     "output_type": "stream",
     "name": "stdout",
     "text": "[3, 4, 5]\n"
    }
   ],
   "source": [
    "\n",
    "# 如果我只需要取最后三个呢？\n",
    "# 也简单\n",
    "print(a[-3:])\n"
   ]
  },
  {
   "cell_type": "code",
   "execution_count": 11,
   "metadata": {
    "tags": []
   },
   "outputs": [
    {
     "output_type": "stream",
     "name": "stdout",
     "text": "[2, 3, 4]\n"
    }
   ],
   "source": [
    "\n",
    "# 如果我只需要当中那三个呢？\n",
    "# 看我秀\n",
    "print(a[1:4])"
   ]
  },
  {
   "cell_type": "markdown",
   "metadata": {},
   "source": [
    "### 看上去很有点难懂是吧？\n",
    "\n",
    "的确有那么一点点，首先回想一下数学老师的当初讲“集合”时候的说过的区间。\n",
    "\n",
    "或者百度复习一下“开区间”和“闭区间”。\n",
    "\n",
    "Python的切片是一个左闭右开区间，冒号左边是起点，冒号右边是终点，\n",
    "\n",
    "包含起点，但是不包含终点。\n",
    "\n",
    "* a\\[1:3\\] = 取出下标为 1，2 的元素（从1开始，到3截止，不包含3）\n",
    "\n",
    "* a\\[:3\\] =  取出下标为0，1，2的元素（省略起点，取出从开头开始3号截止的所有元素）\n",
    "\n",
    "* a\\[3:\\] =  取出下标为3，4，5……直至最后一个元素（省略终点）\n",
    "\n",
    "话说负数是个什么鬼？！\n",
    "\n",
    "嘿嘿嘿，从头开始数是正数，从尾巴开始数那不就是就是负数么？\n",
    "\n",
    "|         |    |    |    |    |    |\n",
    "|:--------|---:|---:|---:|---:|---:|\n",
    "|列表元素  |   1|  2|   3|   4|   5|\n",
    "|正数下标  |   0|  1|   2|   3|   4|\n",
    "|负数下标  |  -5| -4|  -3|  -2|  -1|\n",
    "\n",
    "还不懂的话回楼上自己再玩玩呗。"
   ]
  },
  {
   "cell_type": "markdown",
   "metadata": {},
   "source": [
    "### 什么？我听到有人问“还能不能再再给力一点”?\n",
    "\n",
    "少年，你听说过列表解析么？\n",
    "\n",
    "先考虑一个问题，现有一个\\[1,2,3,4,5\\]的列表，要获一个所有元素都加1的列表应该怎么办？"
   ]
  },
  {
   "cell_type": "code",
   "execution_count": 12,
   "metadata": {
    "tags": []
   },
   "outputs": [
    {
     "output_type": "stream",
     "name": "stdout",
     "text": "[2, 3, 4, 5, 6]\n"
    }
   ],
   "source": [
    "# JAVA程序员的写法\n",
    "sampleList = [1,2,3,4,5]\n",
    "alt = []\n",
    "for i in range(len(sampleList)): #len函数用于取列表长度，\n",
    "                                 #range函数用于枚举数字（默认起点是0，此处只提供了终点。左闭右开还记得么？）\n",
    "    tmp = sampleList[i] + 1\n",
    "    alt.append(tmp)\n",
    "print(alt)"
   ]
  },
  {
   "cell_type": "code",
   "execution_count": 13,
   "metadata": {
    "tags": []
   },
   "outputs": [
    {
     "output_type": "stream",
     "name": "stdout",
     "text": "[2, 3, 4, 5, 6]\n"
    }
   ],
   "source": [
    "# 菜鸡Python程序员的写法\n",
    "sampleList = [1,2,3,4,5]\n",
    "alt = []\n",
    "for i in sampleList: #枚举列表元素\n",
    "    alt.append(i + 1)\n",
    "print(alt)"
   ]
  },
  {
   "cell_type": "code",
   "execution_count": 14,
   "metadata": {
    "tags": []
   },
   "outputs": [
    {
     "output_type": "stream",
     "name": "stdout",
     "text": "[2, 3, 4, 5, 6]\n"
    }
   ],
   "source": [
    "# 懂列表解析的程序员的写法\n",
    "sampleList = [1,2,3,4,5]\n",
    "alt = [x + 1 for x in sampleList]\n",
    "print(alt)"
   ]
  },
  {
   "cell_type": "code",
   "execution_count": 15,
   "metadata": {
    "tags": []
   },
   "outputs": [
    {
     "output_type": "stream",
     "name": "stdout",
     "text": "['b', 'c']\n"
    }
   ],
   "source": [
    "# 列表解析甚至还能这么玩(骚操作)\n",
    "sampleList = [1,'b',3,'c',5]\n",
    "alt = [x for x in sampleList if isinstance(x, str)] # isinstance(x, str)=判断x是不是字符串，此处可以替换为任何条件。\n",
    "print(alt)"
   ]
  },
  {
   "cell_type": "markdown",
   "metadata": {},
   "source": [
    "## 1.2 tuple(元组)\n",
    "\n",
    "和list很相像，用（）做定义，最大的区别是，tuple初始化之后便无法修改，也无法添加和删除元素。"
   ]
  },
  {
   "cell_type": "code",
   "execution_count": 16,
   "metadata": {
    "tags": []
   },
   "outputs": [
    {
     "output_type": "stream",
     "name": "stdout",
     "text": "错误信息\n'tuple' object does not support item assignment\n"
    }
   ],
   "source": [
    "a = (1,2,3,4,5)\n",
    "try:\n",
    "    a[1] = 1\n",
    "except Exception as e:\n",
    "    print('错误信息')\n",
    "    print(e)"
   ]
  },
  {
   "cell_type": "markdown",
   "metadata": {},
   "source": [
    "## 1.3 dict(字典)\n",
    "\n",
    "这个绝对是我最喜欢的数据结构，好玩且强大。\n",
    "\n",
    "熟悉http开发的同学应该想起“名-值”对，\n",
    "\n",
    "写过JAVA的同学应该想起“Map\"。\n",
    "\n",
    "要我说的话，dict的骚操作才是最多的。"
   ]
  },
  {
   "cell_type": "code",
   "execution_count": 17,
   "metadata": {
    "tags": []
   },
   "outputs": [
    {
     "output_type": "stream",
     "name": "stdout",
     "text": "{'A': 1, 'B': 2, 'C': 3}\n"
    }
   ],
   "source": [
    "# 先从基础开始\n",
    "a = {'A': 1, 'B': 2, 'C':3}\n",
    "print(a)"
   ]
  },
  {
   "cell_type": "code",
   "execution_count": 18,
   "metadata": {
    "tags": []
   },
   "outputs": [
    {
     "output_type": "stream",
     "name": "stdout",
     "text": "{'A': 1, 'B': 2, 'C': [1, 2, 3]}\n"
    }
   ],
   "source": [
    "# 例行秀动态类型\n",
    "a = {'A': 1, 'B': 2, 'C': [1,2,3]}\n",
    "print(a)"
   ]
  },
  {
   "cell_type": "code",
   "execution_count": 19,
   "metadata": {
    "tags": []
   },
   "outputs": [
    {
     "output_type": "stream",
     "name": "stdout",
     "text": "{'left': {'left': 'I am left of a!', 'right': 'I am right of a!'}, 'right': {'left': 'I am left of b!', 'right': 'I am right of b!'}}\n\n获取根节点左侧节点的右侧叶子\nI am right of a!\n"
    }
   ],
   "source": [
    "# 二叉树？\n",
    "a = {'left':'I am left of a!', 'right':'I am right of a!'}\n",
    "b = {'left':'I am left of b!', 'right':'I am right of b!'}\n",
    "root = {'left': a, 'right': b}\n",
    "\n",
    "print(root)\n",
    "\n",
    "print('\\n获取根节点左侧节点的右侧叶子')\n",
    "print(root['left']['right'])"
   ]
  },
  {
   "cell_type": "markdown",
   "metadata": {},
   "source": [
    "## 我有没有提过python没有switch/select case之类多条件分支的语句？\n",
    "\n",
    "很多语言都拥有多条件分支语句，然而Python并没有。\n",
    "\n",
    "这不是坑爹，习惯Python的思考方式之后，你会发现为什么须要多条件分支？\n",
    "\n",
    "没有多条件分支的代码会更优雅！\n",
    "\n",
    "下面是一个逆波兰计算器的例子。\n",
    "输入是一个3元素的tuple（运算符，操作数1，操作数2），然后返回运算结果。"
   ]
  },
  {
   "cell_type": "code",
   "execution_count": 20,
   "metadata": {},
   "outputs": [],
   "source": [
    "# 基础函数定义\n",
    "def add(a, b):\n",
    "    return a + b\n",
    "\n",
    "def minus(a, b):\n",
    "    return a - b\n",
    "\n",
    "def times(a, b):\n",
    "    return a * b\n",
    "\n",
    "def div(a, b):\n",
    "    if b == 0:\n",
    "        raise ValueError('被除数不能为0！')\n",
    "    else:\n",
    "        return a/b\n",
    "\n",
    "# 一会测试用的输入数据\n",
    "testInput = ('/', 18, 2)"
   ]
  },
  {
   "cell_type": "code",
   "execution_count": 21,
   "metadata": {
    "tags": []
   },
   "outputs": [
    {
     "output_type": "stream",
     "name": "stdout",
     "text": "9.0\n"
    }
   ],
   "source": [
    "# 当年我智商不够用的时候会这么写。\n",
    "def calculator(inputTuple):\n",
    "    operator = inputTuple[0]\n",
    "    a = inputTuple[1]\n",
    "    b = inputTuple[2]\n",
    "\n",
    "    if operator == '+':\n",
    "        return add(a, b)\n",
    "    elif operator == '-':\n",
    "        return minus(a, b)\n",
    "    elif operator == '*':\n",
    "        return times(a, b)\n",
    "    elif operator == '/':\n",
    "        return div(a, b)\n",
    "    else:\n",
    "        raise ValueError('无效的操作符！')\n",
    "\n",
    "tmp = calculator(testInput)\n",
    "print(tmp)"
   ]
  },
  {
   "cell_type": "code",
   "execution_count": 22,
   "metadata": {
    "tags": []
   },
   "outputs": [
    {
     "output_type": "stream",
     "name": "stdout",
     "text": "9.0\n"
    }
   ],
   "source": [
    "# 智商充值过之后的我是这么写的\n",
    "mapping ={\n",
    "    '+':add,\n",
    "    '-':minus,\n",
    "    '*':times,\n",
    "    '/':div\n",
    "}# 动态类型，丢函数进去理所应当！\n",
    "\n",
    "def calculator(inputTuple):\n",
    "    operator, a, b = inputTuple # 忘记说了。Python支持把列表里的值全部解包按顺序放进几个变量\n",
    "                                # 懒人万岁！\n",
    "    if operator not in mapping.keys():\n",
    "        raise ValueError('无效的操作符！')\n",
    "    \n",
    "    return mapping[operator](a,b) #调用指定Key的函数来处理a和b。\n",
    "\n",
    "tmp = calculator(testInput)\n",
    "print(tmp)"
   ]
  },
  {
   "cell_type": "markdown",
   "metadata": {},
   "source": [
    "### 即使你不在乎代码行数\n",
    "使用字典的代码更为易读，易于维护。\n",
    "\n",
    "分支越多，省力越多，不用傻乎乎的反复写elif。\n",
    "\n",
    "当你把各种条件集中在一个Key里面之后，甚至能省去多余的判断嵌套，\n",
    "\n",
    "代码将变得非常简洁和优雅。\n",
    "\n",
    "* 抱歉我举不出更复杂的好例子，凑合着看看先。\n"
   ]
  },
  {
   "cell_type": "markdown",
   "metadata": {},
   "source": [
    "## 1.4 set(集合)\n",
    "\n",
    "很耳熟对吧，别怀疑，这真的就是当年数学老师教的那个“集合”。\n",
    "\n",
    "交集，并集，差集又回来啦！"
   ]
  },
  {
   "cell_type": "code",
   "execution_count": 23,
   "metadata": {
    "tags": []
   },
   "outputs": [
    {
     "output_type": "stream",
     "name": "stdout",
     "text": "{1, 2, 3, 4, 5}\n"
    }
   ],
   "source": [
    "# 从基础开始\n",
    "a = {1,2,3,4,5}\n",
    "print(a)"
   ]
  },
  {
   "cell_type": "code",
   "execution_count": 24,
   "metadata": {
    "tags": []
   },
   "outputs": [
    {
     "output_type": "stream",
     "name": "stdout",
     "text": "\n这是一个列表\n['apple', 'apple', 'orange', 'pear', 'banana']\n\n这是一个集合\n{'pear', 'orange', 'apple', 'banana'}\n"
    }
   ],
   "source": [
    "# 集合自带去重哦\n",
    "sampleList = ['apple','apple','orange','pear','banana'] #注意这里apple重复了\n",
    "sampleSet = {'apple','apple','orange','pear','banana'}  #注意这里apple重复了\n",
    "\n",
    "print('\\n这是一个列表')\n",
    "print(sampleList)\n",
    "\n",
    "print('\\n这是一个集合')\n",
    "print(sampleSet)"
   ]
  },
  {
   "cell_type": "code",
   "execution_count": 25,
   "metadata": {
    "tags": []
   },
   "outputs": [
    {
     "output_type": "stream",
     "name": "stdout",
     "text": "\n并集\n{'pear', 'orange', 'apple', 'banana'}\n\n交集\n{'pear', 'apple'}\n\n差集\n{'banana'}\n"
    }
   ],
   "source": [
    "a = {'apple','pear','banana'}\n",
    "b = {'apple','orange','pear'}\n",
    "\n",
    "print('\\n并集')\n",
    "print(a.union(b))\n",
    "\n",
    "print('\\n交集')\n",
    "print(a.intersection(b))\n",
    "\n",
    "print('\\n差集')\n",
    "print(a.difference(b))\n"
   ]
  },
  {
   "cell_type": "markdown",
   "metadata": {},
   "source": [
    "## 恭喜，现在你已经基本学会Python语言了。\n",
    "1. 基本的函数定义还没说?\n",
    "  - 我懒。上面有，多抄几遍就会了。\n",
    "2. 基本的控制语句还没说\n",
    "  - 同上。\n",
    "3. 还有什么没有说？\n",
    "  - 下次说函数……"
   ]
  }
 ],
 "metadata": {
  "language_info": {
   "codemirror_mode": {
    "name": "ipython",
    "version": 3
   },
   "file_extension": ".py",
   "mimetype": "text/x-python",
   "name": "python",
   "nbconvert_exporter": "python",
   "pygments_lexer": "ipython3",
   "version": "3.7.6-final"
  },
  "orig_nbformat": 2,
  "kernelspec": {
   "name": "python3",
   "display_name": "Python 3"
  }
 },
 "nbformat": 4,
 "nbformat_minor": 2
}