{
 "cells": [
  {
   "cell_type": "markdown",
   "metadata": {},
   "source": [
    "## 2.函数\n",
    "\n",
    "除了可以抄的部分，再多写点Python中有关函数比较好玩的东西。"
   ]
  },
  {
   "cell_type": "markdown",
   "metadata": {},
   "source": [
    "## 2.1 可选参数/可变参数\n",
    "\n",
    "不可或缺的经典基本款"
   ]
  },
  {
   "cell_type": "code",
   "execution_count": null,
   "metadata": {
    "tags": []
   },
   "outputs": [],
   "source": [
    "def f(a,          #不可省略 \n",
    "      b=0,        #可省略\n",
    "      *args,      #可选,不具名\n",
    "      **argkw     #可选,有特定名字\n",
    "      ):\n",
    "    print(\"a=%s\\nb=%s\\nargs=%s\\nargkw=%s\"%(a,b,args,argkw))\n",
    "\n",
    "print('\\n第一个参数a没有默认值不能省略')\n",
    "try:\n",
    "    f()\n",
    "except Exception as e:\n",
    "    print('错误信息')\n",
    "    print(e)\n",
    "\n",
    "print('\\n第二个参数b有默认值随便你设不设值')\n",
    "f('test')\n",
    "\n",
    "\n",
    "print('\\n *argc 负责接收未定义的无名参数,注意重要的是\"*\",而不是变量名。')\n",
    "print('\\n 接收结果是一个tuple。')\n",
    "f('test',0,1,2,3,4,5,6)\n",
    "\n",
    "print('\\n **argkw 负责接收没有定义的参数,同上重点是\"**\",不是变量名。')\n",
    "print('\\n 接收结果是一个dict。')\n",
    "f(a='test', t1=1,t2=2,t3=3,t4=4)\n",
    "\n"
   ]
  },
  {
   "cell_type": "markdown",
   "metadata": {},
   "source": [
    "Python的可选参数非常灵活，也便于使用。\n",
    "\n",
    "但是过度使用又不写文档的话容易被后续接手的程序员诅咒，\n",
    "\n",
    "或者落入半年后自己也看不懂的境地。\n",
    "\n",
    "答应我，只有确定你需要这东西的时候再用。"
   ]
  },
  {
   "cell_type": "markdown",
   "metadata": {},
   "source": [
    "## 2.2 闭包\n",
    "\n",
    "写过Javascript的同学应该对这个很熟悉。\n",
    "\n",
    "往复杂了说。这个是变量作用域所造成的一种特殊情况……\n",
    "\n",
    "感兴趣的请各位自行百度。\n",
    "\n",
    "我喜欢一种说法就是，这是一个批量生产特定$f(x)$的工厂。"
   ]
  },
  {
   "cell_type": "code",
   "execution_count": null,
   "metadata": {
    "tags": []
   },
   "outputs": [],
   "source": [
    "# 最简单的闭包例子\n",
    "def addx(x):\n",
    "    # 在函数里定义函数也是Python的基本操作之一\n",
    "    def func(num):\n",
    "        # 实现参数绑定。将调用addx函数的x参数绑定在\n",
    "        # func函数的加法操作上。\n",
    "        return num + x\n",
    "    #注意，这里返回的是一个绑定完参数的函数\n",
    "    return func\n",
    "\n",
    "add5 = addx(5)\n",
    "print(add5(10))"
   ]
  },
  {
   "cell_type": "markdown",
   "metadata": {},
   "source": [
    "### 我听见有人问“这有什么用？”\n",
    "\n",
    "少年，听说过装饰器没有？\n",
    "* 其实除了绑参数，绑特定操作也是没问题的。"
   ]
  },
  {
   "cell_type": "code",
   "execution_count": 1,
   "metadata": {
    "tags": []
   },
   "outputs": [
    {
     "output_type": "stream",
     "name": "stdout",
     "text": "\ntestFunc1 执行时间:0:00:01.000504\n\ntestFunc2 执行时间:0:00:05.000976\n"
    }
   ],
   "source": [
    "# 取执行时间的一个例子\n",
    "from datetime import datetime\n",
    "from time import sleep\n",
    "\n",
    "def getExecTime(func):\n",
    "    def wrapper(*argc, **argkw):   # 传递参数\n",
    "        beforeExec = datetime.now()\n",
    "        \n",
    "        tmp = func(*argc, **argkw) # 调用参数里的函数\n",
    "        \n",
    "        exectime = datetime.now() - beforeExec\n",
    "        print('\\n%s 执行时间:%s'%(func.__name__, exectime))\n",
    "    return wrapper\n",
    "\n",
    "@getExecTime\n",
    "def testFunc1():\n",
    "    sleep(1)\n",
    "\n",
    "@getExecTime\n",
    "def testFunc2():\n",
    "    sleep(5)\n",
    "\n",
    "testFunc1()\n",
    "\n",
    "testFunc2()\n",
    "\n",
    "#实际使用的时候请最好调用一下Python 3.x的functools.wraps装饰器。\n",
    "#具体请自行百度或者阅读第四章推荐的python cookbook内的相关内容\n"
   ]
  },
  {
   "cell_type": "markdown",
   "metadata": {},
   "source": [
    "### 还觉得贫弱？\n",
    "\n",
    "没问题，听说过工厂模式么？"
   ]
  },
  {
   "cell_type": "code",
   "execution_count": 7,
   "metadata": {
    "tags": []
   },
   "outputs": [
    {
     "output_type": "stream",
     "name": "stdout",
     "text": "woof! woof! woof!\nthis is a dog.\nmeow~ meow~ meow~\nthis is a cat.\n"
    }
   ],
   "source": [
    "# 最简单的类工厂\n",
    "def createAnimal(name, voice):\n",
    "    class Animal():\n",
    "        def cry(self):\n",
    "            print('%s %s %s'%(voice, voice, voice))\n",
    "        \n",
    "        def info(self):\n",
    "            print('this is a %s.'%name)\n",
    "    \n",
    "    return Animal\n",
    "\n",
    "# 创建猫类和狗类\n",
    "Dog = createAnimal('dog', 'woof!')\n",
    "Cat = createAnimal('cat', 'meow~')\n",
    "\n",
    "# 下面就是熟悉的配方和熟悉的味道了\n",
    "d = Dog()\n",
    "d.cry()\n",
    "d.info()\n",
    "\n",
    "c = Cat()\n",
    "c.cry()\n",
    "c.info()"
   ]
  },
  {
   "cell_type": "markdown",
   "metadata": {},
   "source": [
    "## 2.2 lambda\n",
    "\n",
    "简单函数命名困难症用户的福音。\n",
    "\n",
    "又可以保持代码整洁~~(偷懒)~~了。"
   ]
  },
  {
   "cell_type": "code",
   "execution_count": 8,
   "metadata": {
    "tags": []
   },
   "outputs": [
    {
     "output_type": "stream",
     "name": "stdout",
     "text": "20\n"
    }
   ],
   "source": [
    "# 还记得那个逆波兰计算器么\n",
    "mapping ={\n",
    "    '+':lambda x, y: x + y, #这样，基本函数的定义又可以省掉了\n",
    "    '-':lambda x, y: x - y,\n",
    "    '*':lambda x, y: x * y,\n",
    "    '/':lambda x, y: x / y\n",
    "}\n",
    "\n",
    "def calculator(inputTuple):\n",
    "    operator, a, b = inputTuple \n",
    "\n",
    "    if operator not in mapping.keys():\n",
    "        raise ValueError('无效的操作符！')\n",
    "    \n",
    "    return mapping[operator](a,b)\n",
    "\n",
    "tmp = calculator(('+',11 , 9))\n",
    "print(tmp)\n"
   ]
  },
  {
   "cell_type": "markdown",
   "metadata": {},
   "source": [
    "## 2.3 函数式编程以及元编程不了解一下么？\n",
    "\n",
    "常用的OO编程范式有时非常啰嗦，例如某个main函数都必须写个类的语言。\n",
    "\n",
    "而Python由于是动态类型语言，自带的泛型能力就能让许多抽象实现成为可能。\n",
    "\n",
    "习惯函数化编程的思维方式有时对工作~~（偷懒）~~很有帮助。\n",
    "\n",
    "附上[知乎链接](https://www.zhihu.com/question/28292740?sort=created)\n"
   ]
  }
 ],
 "metadata": {
  "language_info": {
   "codemirror_mode": {
    "name": "ipython",
    "version": 3
   },
   "file_extension": ".py",
   "mimetype": "text/x-python",
   "name": "python",
   "nbconvert_exporter": "python",
   "pygments_lexer": "ipython3",
   "version": "3.7.6-final"
  },
  "orig_nbformat": 2,
  "kernelspec": {
   "name": "python3",
   "display_name": "Python 3"
  }
 },
 "nbformat": 4,
 "nbformat_minor": 2
}